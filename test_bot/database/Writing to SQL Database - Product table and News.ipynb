{
 "cells": [
  {
   "cell_type": "code",
   "execution_count": null,
   "metadata": {},
   "outputs": [],
   "source": [
    "import pandas as pd\n",
    "import mysql.connector\n",
    "\n",
    "from sqlalchemy import create_engine\n",
    "\n",
    "#hostname = \n",
    "#username = \n",
    "#password = \n",
    "#database = \n",
    "# Open database connection\n",
    "engine = create_engine('mysql+mysqlconnector://<username>:<password>@<hostname>:3306/<database>', echo=False)\n",
    "\n",
    "df_products = pd.read_csv(\"phones_laptops_database_NEW.csv\")\n",
    "df_products.to_sql('products', con=engine, if_exists='replace', index = False)"
   ]
  },
  {
   "cell_type": "code",
   "execution_count": null,
   "metadata": {},
   "outputs": [],
   "source": [
    "df_news = pd.read_csv(\"laptops_phones_news.csv\")\n",
    "df_news.to_sql('news', con=engine, if_exists='replace', index = False)"
   ]
  }
 ],
 "metadata": {
  "kernelspec": {
   "display_name": "Python 3",
   "language": "python",
   "name": "python3"
  },
  "language_info": {
   "codemirror_mode": {
    "name": "ipython",
    "version": 3
   },
   "file_extension": ".py",
   "mimetype": "text/x-python",
   "name": "python",
   "nbconvert_exporter": "python",
   "pygments_lexer": "ipython3",
   "version": "3.7.3"
  }
 },
 "nbformat": 4,
 "nbformat_minor": 2
}
